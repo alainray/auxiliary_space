{
 "cells": [
  {
   "cell_type": "markdown",
   "id": "d6e060e3-61ac-4653-a882-74d310ef28c2",
   "metadata": {},
   "source": [
    "# Feature Extractor "
   ]
  },
  {
   "cell_type": "code",
   "execution_count": 1,
   "id": "ca77a541-be14-4352-8f8a-c82ba51610a8",
   "metadata": {},
   "outputs": [],
   "source": [
    "from torchvision.datasets import CelebA\n",
    "from torchvision.models import resnet50\n",
    "from torchvision.transforms import Resize, ToTensor, Compose,Normalize\n",
    "from torch.nn import Identity\n",
    "from torch.utils.data import DataLoader\n",
    "import torch\n",
    "from torch.utils.data import TensorDataset\n",
    "from easydict import EasyDict as edict\n",
    "import torchvision.transforms as tt\n",
    "from torch.utils.data import DataLoader\n",
    "from torch.utils.data.dataset import random_split\n",
    "from tqdm.notebook import tqdm\n",
    "\n",
    "def mnist_cifar(root, split, binarize=False):\n",
    "\n",
    "    all_splits = torch.load(root)\n",
    "    sp = split\n",
    "    if split == \"id\":\n",
    "        sp = 'train'\n",
    "    ds = all_splits[sp]\n",
    "    if binarize:\n",
    "        ds['targets'] = (ds['targets'] > 4).float()\n",
    "\n",
    "    dataset = TensorDataset(ds['data'], ds['targets'], ds['group'])\n",
    "\n",
    "    if split in ['train', 'id']:\n",
    "        generator1 = torch.Generator().manual_seed(42)\n",
    "        dss = random_split(dataset, [9000, 1000], generator=generator1 )\n",
    "        if split == 'train':\n",
    "            return dss[0]\n",
    "        elif split == 'id':\n",
    "            return dss[1]\n",
    "\n",
    "    return dataset\n",
    "\n",
    "def get_dataset(split, corr, root=\"../../datasets/MNISTCIFAR\",n_dims=1 ,**kwargs):\n",
    "\n",
    "    datapath = root\n",
    "    if n_dims == 10:\n",
    "        datapath += f\"/MNIST_CIFAR_{corr}.pth\"\n",
    "    else:\n",
    "        datapath += f\"/MNIST_CIFAR_binary_{corr}.pth\"\n",
    "    #print(datapath)\n",
    "    a = mnist_cifar(datapath, split=split)\n",
    "    return  a"
   ]
  },
  {
   "cell_type": "code",
   "execution_count": 2,
   "id": "c742a46b-d38e-453b-90a9-e0eed9378f48",
   "metadata": {
    "scrolled": true
   },
   "outputs": [],
   "source": [
    "# Define the mean and standard deviation for ImageNet normalization\n",
    "mean = [0.485, 0.456, 0.406]\n",
    "std = [0.229, 0.224, 0.225]\n",
    "dataset = \"mnistcifar\"\n",
    "split = \"test\"\n",
    "# Create a Normalize transform\n",
    "t = Compose([Resize((224,224)), ToTensor(), Normalize(mean=mean, std=std)])\n"
   ]
  },
  {
   "cell_type": "code",
   "execution_count": 4,
   "id": "48b648ff-c62a-4477-917a-1aa2dfa4cbfb",
   "metadata": {},
   "outputs": [
    {
     "data": {
      "application/vnd.jupyter.widget-view+json": {
       "model_id": "861fcbb24c56475aaa47adeb7941b0cd",
       "version_major": 2,
       "version_minor": 0
      },
      "text/plain": [
       "  0%|          | 0/5 [00:00<?, ?it/s]"
      ]
     },
     "metadata": {},
     "output_type": "display_data"
    },
    {
     "data": {
      "application/vnd.jupyter.widget-view+json": {
       "model_id": "f5de366997c0458c859e4bf3b6cece05",
       "version_major": 2,
       "version_minor": 0
      },
      "text/plain": [
       "Processing:   0%|          | 0/282 [00:00<?, ?it/s]"
      ]
     },
     "metadata": {},
     "output_type": "display_data"
    },
    {
     "data": {
      "application/vnd.jupyter.widget-view+json": {
       "model_id": "769a834a8b4c48e299d765b0227fe70f",
       "version_major": 2,
       "version_minor": 0
      },
      "text/plain": [
       "Processing:   0%|          | 0/282 [00:00<?, ?it/s]"
      ]
     },
     "metadata": {},
     "output_type": "display_data"
    },
    {
     "data": {
      "application/vnd.jupyter.widget-view+json": {
       "model_id": "69839abb50824d0e96e6746a3a8bd977",
       "version_major": 2,
       "version_minor": 0
      },
      "text/plain": [
       "Processing:   0%|          | 0/282 [00:00<?, ?it/s]"
      ]
     },
     "metadata": {},
     "output_type": "display_data"
    },
    {
     "data": {
      "application/vnd.jupyter.widget-view+json": {
       "model_id": "fb1579e7a8b846a287e9addb9e24ce49",
       "version_major": 2,
       "version_minor": 0
      },
      "text/plain": [
       "Processing:   0%|          | 0/282 [00:00<?, ?it/s]"
      ]
     },
     "metadata": {},
     "output_type": "display_data"
    },
    {
     "data": {
      "application/vnd.jupyter.widget-view+json": {
       "model_id": "ffc3e7b0222e4a8a9a4b4d0d62d95c97",
       "version_major": 2,
       "version_minor": 0
      },
      "text/plain": [
       "Processing:   0%|          | 0/282 [00:00<?, ?it/s]"
      ]
     },
     "metadata": {},
     "output_type": "display_data"
    }
   ],
   "source": [
    "corr = 0.9\n",
    "corrs = [0.0, 0.25, 0.5, 0.75, 1.0]\n",
    "split=\"train\"\n",
    "for corr in tqdm(corrs,total=len(corrs)):\n",
    "    if dataset == \"mnistcifar\":\n",
    "        train_ds = get_dataset(split,corr)\n",
    "    elif dataset == \"celeba\":\n",
    "        train_ds = CelebA(root=\"../../datasets\",target_type=\"attr\",split=split, download=False,transform=t)\n",
    "\n",
    "    train_dl = DataLoader(train_ds, batch_size=32, shuffle=True)\n",
    "    # Create resnet extractor\n",
    "    extractor = resnet50(weights=\"IMAGENET1K_V1\").cuda()\n",
    "    extractor.fc = Identity()\n",
    "    features = []\n",
    "    total_batches = len(train_dl)\n",
    "    labels = []\n",
    "    groups = []\n",
    "    \n",
    "    for n_batch, (x, y, g) in tqdm(enumerate(train_dl), total=total_batches, desc=\"Processing\"):\n",
    "        x = x.cuda()\n",
    "        labels.extend(y.clone().cpu())\n",
    "        groups.extend(g.clone().cpu())\n",
    "        features.append(extractor(x).detach().clone().cpu())\n",
    "\n",
    "    feats_torch = torch.cat(features, dim=0)\n",
    "    labels = [x.item() for x in labels]\n",
    "    groups = [x.item() for x in groups]\n",
    "    torch.save( {\"x\": feats_torch, \"y\": labels, \"g\": groups}, f\"{dataset}_{corr}_imgnet_2048_{split}.pth\")"
   ]
  },
  {
   "cell_type": "code",
   "execution_count": null,
   "id": "eb77ff0c-e389-447c-9e1e-89ead908902d",
   "metadata": {},
   "outputs": [],
   "source": []
  }
 ],
 "metadata": {
  "kernelspec": {
   "display_name": "Python 3 (ipykernel)",
   "language": "python",
   "name": "python3"
  },
  "language_info": {
   "codemirror_mode": {
    "name": "ipython",
    "version": 3
   },
   "file_extension": ".py",
   "mimetype": "text/x-python",
   "name": "python",
   "nbconvert_exporter": "python",
   "pygments_lexer": "ipython3",
   "version": "3.10.12"
  }
 },
 "nbformat": 4,
 "nbformat_minor": 5
}
